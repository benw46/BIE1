{
 "cells": [
  {
   "cell_type": "markdown",
   "metadata": {},
   "source": [
    "<h1 align=\"center\">Bitcoin Encryption Standard: Electrum BIE1 ECIES (WP1305)</h1>\n",
    "<h3 align=\"center\">Benjamin Watts</h3>\n",
    "<h3 align=\"center\">Researcher</h3>\n",
    "<br>\n",
    "\n"
   ]
  },
  {
   "cell_type": "markdown",
   "metadata": {},
   "source": [
    "<br>The encryption protocol we follow is Electrum BIE1 ECIES.<br>\n",
    "<br>Setup:<br><br>\n",
    "Alice has a public/private keypair $P_{A}^{DH}=S_{A}^{DH}⋅G$ and Bob has a keypair $P_{B}^{DH}=S_{B}^{DH}⋅G$ We assume that Alice and Bob have exchanged public keys off-chain and now Alice wishes to send an encrypted message to Bob on-chain, for example within an OP_RETURN statement. Alice will sign the on-chain transaction with a sperate keypair $P_{A}^{Tx}=S_{A}^{Tx}⋅G$ \n",
    "\n",
    "Summary table:\n",
    "<h5 align=\"center\">1. Establishing a Shared Secret</h3> \n",
    "\n",
    "||<img width=400/>|\n",
    "|:----------------------------------:|:------------------------------------------------------------:|\n",
    "|Alice's ECDH Key                    | $P_{A}^{DH}$|\n",
    "|Bob's ECDH Key                      | $P_{B}^{DH}$|\n",
    "|ECDH Shared Secret Point            | $S_{AB} = P_{A}^{DH} ⋅ P_{B}^{DH} = P_{B}^{DH} ⋅ P_{A}^{DH}$|\n",
    "|ECDH Shared Secret Data             | $S_{AB}$ **(compressed)**|\n",
    "|Hash Function for Shared Secret Data| **SHA-512**|\n",
    "\n",
    "<h5 align=\"center\">2. Message Encryption and Authentication</h3> \n",
    "\n",
    "||<img width=480/>|\n",
    "|:----------------------------------:|:------------------------------------------------------------:|\n",
    "|Message Padding                     | **PKCS7**                                     |\n",
    "|Encryption Algorithm                | **AES 128-BIT CBC mode**                                     |\n",
    "|Initialization Vector (IV)          | **First 128-bits of** $H(S)$                                 |\n",
    "|Encryption Key                      | **Second 128-bits of** $H(S)$                                |\n",
    "|HMAC Key                            | **Last 256-bits of** $H(S)$                                 |\n",
    "|Message Authentication              | **First 128-bits of HMAC-SHA256 using entire ciphertext**    |\n",
    "\n",
    "<h5 align=\"center\">3. Transaction Composition</h3> \n",
    "\n",
    "||<img width=480/>|\n",
    "|:----------------------------------:|:------------------------------------------------------------:|\n",
    "|Tx Signature Key                    | $P_{A}^{Tx}$                                                 |\n",
    "|Encryption Data Packet              | $P_{A}^{DH}$ **, ciphertext, HMAC**                          |\n",
    "|Protocol Flag                       | **BIE1**                                                     |\n",
    "|OP_RETURN Payload                   | **(BIE1)(**$P_{A}^{DH}$ **, ciphertext, HMAC)**              |"
   ]
  },
  {
   "cell_type": "markdown",
   "metadata": {},
   "source": [
    "This protocol adheres to the following principles:<br>\n",
    "1. Transaction signing keys are separate from encryption (Diffie-Hellman) keys. Advantages:\n",
    ">a) Increased privacy and security.<br>\n",
    ">b) The OP_RETURN payload can be used for secure off-chain messaging as well.<br>\n",
    ">c) The protocol can easily be adapted to use Diffie-Hellman keys that do no belong to the bitcoin secp256k1 conventions. For example, with keys that have 256-bit security<br><br>\n",
    "2. A new encryption key is used for each plaintext. Advantages:\n",
    ">a) Assuming (1), if an audit takes place, then one can hand over decryption keys that will give the auditor power to view one plaintext only.\n",
    "\n"
   ]
  },
  {
   "cell_type": "markdown",
   "metadata": {},
   "source": [
    "## Libraries and Modules"
   ]
  },
  {
   "cell_type": "code",
   "execution_count": 215,
   "metadata": {},
   "outputs": [],
   "source": [
    "import binascii \n",
    "import hashlib\n",
    "import ecdsa\n",
    "import codecs\n",
    "import hmac\n",
    "import base64\n",
    "\n",
    "from Crypto.Cipher import AES\n",
    "from pkcs7 import PKCS7Encoder"
   ]
  },
  {
   "cell_type": "markdown",
   "metadata": {},
   "source": [
    "## Elliptic Curve Field Setup\n",
    "\n",
    "All key-related operations for Bitcoin occur within the finite group of secp256k1.<br>\n",
    "Secp256k1, http://www.oid-info.com/get/1.3.132.0.10<br>"
   ]
  },
  {
   "cell_type": "code",
   "execution_count": 216,
   "metadata": {},
   "outputs": [],
   "source": [
    "p_ec = 0xFFFFFFFFFFFFFFFFFFFFFFFFFFFFFFFFFFFFFFFFFFFFFFFFFFFFFFFEFFFFFC2F\n",
    "r_ec = 0xFFFFFFFFFFFFFFFFFFFFFFFFFFFFFFFEBAAEDCE6AF48A03BBFD25E8CD0364141\n",
    "b_ec = 0x0000000000000000000000000000000000000000000000000000000000000007\n",
    "a_ec = 0x0000000000000000000000000000000000000000000000000000000000000000\n",
    "Gx = 0x79BE667EF9DCBBAC55A06295CE870B07029BFCDB2DCE28D959F2815B16F81798\n",
    "Gy = 0x483ada7726a3c4655da4fbfc0e1108a8fd17b448a68554199c47d08ffb10d4b8\n",
    "curve_secp256k1 = ecdsa.ellipticcurve.CurveFp(p_ec, a_ec, b_ec)\n",
    "generator_secp256k1 = ecdsa.ellipticcurve.Point(curve_secp256k1, Gx, Gy, r_ec)\n",
    "oid_secp256k1 = (1, 3, 132, 0, 10)\n",
    "SECP256k1 = ecdsa.curves.Curve(\"SECP256k1\", curve_secp256k1, generator_secp256k1, oid_secp256k1)"
   ]
  },
  {
   "cell_type": "markdown",
   "metadata": {},
   "source": [
    "## Functions"
   ]
  },
  {
   "cell_type": "code",
   "execution_count": 217,
   "metadata": {},
   "outputs": [],
   "source": [
    "def get_point_pubkey(point_input):\n",
    "    if (point_input.y() % 2) == 1:\n",
    "        result = '03' + '%064x' % point_input.x()\n",
    "    else:\n",
    "        result = '02' + '%064x' % point_input.x()\n",
    "    return binascii.hexlify(codecs.decode(result, 'hex'))\n",
    "\n",
    "def point_double():\n",
    "    print(\"do this\")\n",
    "\n",
    "def point_add():\n",
    "    print(\"do that\")"
   ]
  },
  {
   "cell_type": "markdown",
   "metadata": {},
   "source": [
    "## Alice's Details and Message\n",
    "In the examples of this document, Alice is sending a message to Bob. Her private key, $S_{A}^{DH}$, is defined as the variable `SA` in the code below.\n"
   ]
  },
  {
   "cell_type": "code",
   "execution_count": 218,
   "metadata": {},
   "outputs": [],
   "source": [
    "SA = 54221739386215982513329628131540269007441981031353650007031898434875003141355\n",
    "# = L1Ejc5dAigm5XrM3mNptMEsNnHzS7s51YxU7J61ewGshZTKkbmzJ\n",
    "\n",
    "PA = ecdsa.ellipticcurve.Point(ecdsa.SECP256k1.curve, \\\n",
    "                               26186473731199907689170338364739255189550659682973035734804284247663992809959, \\\n",
    "                               71894484974716313150658193896579683660742267101889515604922967520820712029133, 10)\n",
    "\n",
    "CompPA = '0339e504d6492b082da96e11e8f039796b06cd4855c101e2492a6f10f3e056a9e7'\n",
    "\n",
    "message = 'Hello world'"
   ]
  },
  {
   "cell_type": "markdown",
   "metadata": {},
   "source": [
    "# Bob's Details\n",
    "Bob is the reciever."
   ]
  },
  {
   "cell_type": "code",
   "execution_count": 219,
   "metadata": {},
   "outputs": [],
   "source": [
    "SB = 19604546966363504345948514434989414564433960545638122907271979546904571708973\n",
    "# = KxfxrUXSMjJQcb3JgnaaA6MqsrKQ1nBSxvhuigdKRyFiEm6BZDgG\n",
    "\n",
    "PB = ecdsa.ellipticcurve.Point(ecdsa.SECP256k1.curve, \\\n",
    "                               60650801378751831856369186448697049492352593086860468010779747572550299104457, \\\n",
    "                               34835621696986631909597048749467048062767037690835130200819150414373328549789, 10)\n",
    "\n",
    "CompPB = '03861723172e8f50bf4e3b2b70582619a7260b79f040bcb2460ffd1d9053f534c9'"
   ]
  },
  {
   "cell_type": "markdown",
   "metadata": {},
   "source": [
    "## Establishing Shared Secret\n",
    "**Input: The private key** $S_{A}^{DH}$ **and public key $P_{B}^{DH}$.**<br>\n",
    "**Output: Shared Secret Data.**<br><br>\n",
    "**Method:**<br>\n",
    "The public key of Bob is multiplied by the private key of Alice to get a new point on the elliptic curve $S_{AB}=S_{A}^{DH}⋅P_{B}^{DH}$. This point is a secret that is only known to Alice and Bob, and should not be shared. From this the following shared secret data is obtained:\n",
    "<h5 align=\"center\"> $S = $ compressed format of $S_{AB}$ (33-bytes)</h5>\n",
    "\n"
   ]
  },
  {
   "cell_type": "code",
   "execution_count": 220,
   "metadata": {},
   "outputs": [],
   "source": [
    "S = '031cc3959f09765b99d8323496bd1b27126c0dcc6ca369ec66b6cdef324301614a'"
   ]
  },
  {
   "cell_type": "markdown",
   "metadata": {},
   "source": [
    "## Establishing symmetric keys\n",
    "**Input: Shared Secret Data _S_.**<br>\n",
    "**Output: IV, AES Key, HMAC Key.**<br><br>\n",
    "**Method:**<br>\n",
    "The secret data S is hashed by SHA512. The hash is then split into two, 128-bit blocks and one 256-bit block. These are used to calculate:\n",
    "<h5 align=\"center\"> IV = first 128-bits of SHA512(S),</h5>\n",
    "<h5 align=\"center\"> AES Key = second 128-bits of SHA512(S),</h5>\n",
    "<h5 align=\"center\"> HMAC Key = final 256-bits of SHA512(S)</h5>\n",
    "\n",
    "<br>**Additional Remarks:**<br>\n",
    "- Take note that the SHA512 function takes a bytes-like object only as its parameter. This may be a mutable 'bytearray' or immutable 'bytes' object."
   ]
  },
  {
   "cell_type": "code",
   "execution_count": 221,
   "metadata": {},
   "outputs": [
    {
     "name": "stdout",
     "output_type": "stream",
     "text": [
      "IV as hex:      b'4a76311614a90d81a7c4f8d038c91f5f'\n",
      "KAES as hex:    b'a4375fefdde407b0728ca4d35475cd67'\n",
      "KHMAC as hex:   b'94d936f43d8c2e22cc81b52f8c28bfd5ac5e74c45bf3cabfbf145fc0f0d92337'\n"
     ]
    }
   ],
   "source": [
    "data = bytearray.fromhex(S) # Important data type. Bytes-like object required for hashing\n",
    "#data = bytes.fromhex(S)\n",
    "\n",
    "IV = hashlib.sha512(data).digest()[0:16]\n",
    "KAES = hashlib.sha512(data).digest()[16:32]\n",
    "KHMAC = hashlib.sha512(data).digest()[32:64]\n",
    "\n",
    "#print(\"IV as bytes:    \" + str(IV))\n",
    "#print(\"KAES as bytes:  \" + str(KAES))\n",
    "#print(\"KHMAC as bytes: \" + str(KHMAC))\n",
    "\n",
    "print(\"IV as hex:      \" + str(binascii.hexlify(IV)))\n",
    "print(\"KAES as hex:    \" + str(binascii.hexlify(KAES)))\n",
    "print(\"KHMAC as hex:   \" + str(binascii.hexlify(KHMAC)))"
   ]
  },
  {
   "cell_type": "markdown",
   "metadata": {},
   "source": [
    "## Message Encryption\n",
    "**Input: Plaintext, IV, AES Key.**<br>\n",
    "**Output: Ciphertext.**<br><br>\n",
    "**Method:**<br>\n",
    "The plaintext is converted to hex and padded using Public Key Cryptography Standards Number 7 (PKCS7). The padded message is then encrypted using AES 128-bit CBC mode algorithm with the AES Key and IV as defined above. A rough outline of the method is as follows: \n",
    "\n",
    "1. The plaintext is split into 128-bit blocks.\n",
    "2. The first block is then XOR’d with the IV. This ensures that if the same plaintext is encrypted twice with the same AES Key then then a different ciphertext will be produced (assuming the IV is not the same).\n",
    "3. The result is fed into the AES 128 algorithm.\n",
    "\n",
    "<br>**Additional Remarks:**<br>\n",
    "- Take note that the `aes.encrypt` function requires bytes only, not bytearray.\n"
   ]
  },
  {
   "cell_type": "code",
   "execution_count": 222,
   "metadata": {},
   "outputs": [
    {
     "name": "stdout",
     "output_type": "stream",
     "text": [
      "messagebuf: 48656c6c6f20776f726c640505050505\n",
      "\n",
      "ciphertext: b'37ae432655fe95d444834c88e31b9c0e'\n"
     ]
    }
   ],
   "source": [
    "encoder = PKCS7Encoder() # PKCS7 Encoder for padding\n",
    "messagebuf = encoder.encode(message) # Pad message\n",
    "messagebuf = binascii.hexlify(messagebuf.encode()) # Encoded in hex\n",
    "messagebuf = messagebuf.decode() # \"b'\" removed\n",
    "print(\"messagebuf: \" + messagebuf)\n",
    "messagebuf = bytes.fromhex(messagebuf) # Turned into a bytes object\n",
    "\n",
    "aes = AES.new(KAES, AES.MODE_CBC, IV) \n",
    "encryptedBytes = aes.encrypt(messagebuf)\n",
    "\n",
    "ciphertext = binascii.hexlify(encryptedBytes)\n",
    "print(\"\\nciphertext: \" + str(ciphertext))"
   ]
  },
  {
   "cell_type": "markdown",
   "metadata": {},
   "source": [
    "## Creating Hmac\n",
    "**Input: Ciphertext, HMAC Key.**<br>\n",
    "**Output: HMAC.**<br><br>\n",
    "**Method:**<br>\n",
    "Let us denote the HMAC Key as $K_{HMAC}$ and the hash function SHA-256 as $H$.<br>\n",
    "Define opad= 0x5c*16, ipad= 0x36*16 and $m$ as the concatenated string of the Protocol Flag + Sender Public Key + Ciphertext. Calculate: \n",
    "<h5 align=\"center\">$HMAC = H((K_{HMAC}⨁opad) ∥ (K_{HMAC}⨁ipad) ∥ m)).$</h5>\n",
    "<br>The data is concatentated in the following order: Protocol Flag, Public Key, Ciphertext, HMAC. See Entire package."
   ]
  },
  {
   "cell_type": "code",
   "execution_count": 223,
   "metadata": {},
   "outputs": [
    {
     "name": "stdout",
     "output_type": "stream",
     "text": [
      "\n",
      "Entire package as hex:\n",
      "424945310339e504d6492b082da96e11e8f039796b06cd4855c101e2492a6f10f3e056a9e737ae432655fe95d444834c88e31b9c0ee70d8ca6c80c8ad83f0794ba03f9818f35a73691ad80b48e37e98fd150a0b49e\n",
      "\n",
      "Entire package as base-64:\n",
      "QklFMQM55QTWSSsILaluEejwOXlrBs1IVcEB4kkqbxDz4Fap5zeuQyZV/pXURINMiOMbnA7nDYymyAyK2D8HlLoD+YGPNac2ka2AtI436Y/RUKC0ng==\n"
     ]
    }
   ],
   "source": [
    "BIE1 = '42494531'\n",
    "pubKey = CompPA\n",
    "encbuf = BIE1 + pubKey + ciphertext.decode()\n",
    "\n",
    "encbuf = bytes.fromhex(encbuf) # bytes object important\n",
    "h = hmac.new(KHMAC, encbuf, hashlib.sha256).hexdigest()\n",
    "\n",
    "encbuf = binascii.hexlify(encbuf)\n",
    "encbuf = encbuf.decode()\n",
    "encbuf = encbuf + h\n",
    "\n",
    "print(\"\\nEntire package as hex:\\n\" + encbuf)\n",
    "x = codecs.decode(encbuf, \"hex\")\n",
    "print(\"\\nEntire package as base-64:\\n\" + str(base64.b64encode(x).decode()))"
   ]
  },
  {
   "cell_type": "markdown",
   "metadata": {},
   "source": [
    "## Decryption: Slicing Entire Package\n",
    "**Input: Entire Package.**<br>\n",
    "**Output: Protocol Flag, Senders Public Key, Ciphertext, HMAC.**<br><br>\n",
    "**Method:**<br>\n",
    "The entire package is sliced into its constituent parts.\n",
    " \n",
    "Bytes 0 to 4 define the Protocol Flag. \n",
    "\n",
    "Bytes 4 to 37 define the sender’s public key. \n",
    "\n",
    "Since the ciphertext is of variable length, depending on the size of the secret message, the length of the entire package must be used to determine where the ciphertext and HMAC start and end. Define entire_package.length as the length of the entire package in bytes. \n",
    "Bytes 37 to entire_package.length – 32 define the Ciphertext. \n",
    "\n",
    "Bytes entire_package.length – 32 to entire_package.length define the HMAC. \n",
    "\n",
    "Take note: The pkcs7 library's inbuilt decoder.decode() function isn't used as I can't get it to work. I did, however, pilfer the pkcs7_unpad function from pastebin (https://pastebin.com/zi11rc8h)."
   ]
  },
  {
   "cell_type": "code",
   "execution_count": 224,
   "metadata": {},
   "outputs": [
    {
     "name": "stdout",
     "output_type": "stream",
     "text": [
      "42494531\n",
      "0339e504d6492b082da96e11e8f039796b06cd4855c101e2492a6f10f3e056a9e7\n",
      "37ae432655fe95d444834c88e31b9c0e\n",
      "e70d8ca6c80c8ad83f0794ba03f9818f35a73691ad80b48e37e98fd150a0b49e\n"
     ]
    }
   ],
   "source": [
    "# Decrypt with entire_package and receivers private key\n",
    "entire_package = 'QklFMQM55QTWSSsILaluEejwOXlrBs1IVcEB4kkqbxDz4Fap5zeuQyZV/pXURINMiOMbnA7nDYymyAyK2D8HlLoD+YGPNac2ka2AtI436Y/RUKC0ng=='\n",
    "privKey = 'KxfxrUXSMjJQcb3JgnaaA6MqsrKQ1nBSxvhuigdKRyFiEm6BZDgG'\n",
    "entire_package = base64.b64decode(entire_package)\n",
    "entire_package = binascii.hexlify(entire_package)\n",
    "entire_package = entire_package.decode()\n",
    "length = len(entire_package)\n",
    "protocol_flag = entire_package[0:8] # Python not dealing in bytes, in chars. \n",
    "pubkey = entire_package[8:74]\n",
    "ciphertext = entire_package[74:length-64]\n",
    "HMAC = entire_package[length-64:]\n",
    "\n",
    "print(protocol_flag)\n",
    "print(pubkey)\n",
    "print(ciphertext)\n",
    "print(HMAC)"
   ]
  },
  {
   "cell_type": "markdown",
   "metadata": {},
   "source": [
    "## Decryption: Establishing Shared Secret Data\n",
    "**Input: The private key** $S_{B}^{DH}$ **and public key $P_{A}^{DH}$.**<br>\n",
    "**Output: Shared Secret Data.**<br><br>\n",
    "**Method:**<br>\n",
    "The public key of Alice, as obtained from the Entire Package, is multiplied by the private key of Bob to get a new point on the elliptic curve $S_{AB}=S_{B}^{DH}⋅P_{A}^{DH}$"
   ]
  },
  {
   "cell_type": "code",
   "execution_count": 225,
   "metadata": {},
   "outputs": [],
   "source": [
    "S = '031cc3959f09765b99d8323496bd1b27126c0dcc6ca369ec66b6cdef324301614a'\n",
    "data = bytearray.fromhex(S)"
   ]
  },
  {
   "cell_type": "markdown",
   "metadata": {},
   "source": [
    "## Decryption: Establishing Symmetric Keys\n",
    "**Input: Shared Secret Data _S_.**<br>\n",
    "**Output: IV, AES Key, HMAC Key.**<br><br>\n",
    "**Method:**<br>\n",
    "The secret data S is hashed by SHA512. The hash is then split into two, 128-bit blocks and one 256-bit block. These are used to calculate:\n",
    "<h5 align=\"center\"> IV = first 128-bits of SHA512(S),</h5>\n",
    "<h5 align=\"center\"> AES Key = second 128-bits of SHA512(S),</h5>\n",
    "<h5 align=\"center\"> HMAC Key = final 256-bits of SHA512(S)</h5>\n"
   ]
  },
  {
   "cell_type": "code",
   "execution_count": 226,
   "metadata": {},
   "outputs": [
    {
     "name": "stdout",
     "output_type": "stream",
     "text": [
      "b'Jv1\\x16\\x14\\xa9\\r\\x81\\xa7\\xc4\\xf8\\xd08\\xc9\\x1f_'\n",
      "b'\\xa47_\\xef\\xdd\\xe4\\x07\\xb0r\\x8c\\xa4\\xd3Tu\\xcdg'\n",
      "b'\\x94\\xd96\\xf4=\\x8c.\"\\xcc\\x81\\xb5/\\x8c(\\xbf\\xd5\\xac^t\\xc4[\\xf3\\xca\\xbf\\xbf\\x14_\\xc0\\xf0\\xd9#7'\n"
     ]
    }
   ],
   "source": [
    "IV = hashlib.sha512(data).digest()[0:16]\n",
    "KAES = hashlib.sha512(data).digest()[16:32]\n",
    "KHMAC = hashlib.sha512(data).digest()[32:64]\n",
    "\n",
    "print(IV)\n",
    "print(KAES)\n",
    "print(KHMAC)"
   ]
  },
  {
   "cell_type": "markdown",
   "metadata": {},
   "source": [
    "## Decryption: Authenticity Check\n",
    "**Input: Protocol Flag, Sender Public Key, Ciphertext, HMAC Key, HMAC.**<br>\n",
    "**Output: TRUE/FALSE.**<br><br>\n",
    "**Method:**<br>\n",
    "To check the authenticity of the package, the receiver creates their own HMAC using the Protocol Flag, Senders Public Key and Ciphertext obtained from the Entire Package, as well as the HMAC Key derived from the hash of the shared secret. The value of this calculated HMAC is compared to the value of the HMAC of the entire package, found at bytes entire_package.length – 32 to entire_package.length. If the comparison is true, the receiver knows that the entire package is authentic. "
   ]
  },
  {
   "cell_type": "code",
   "execution_count": 228,
   "metadata": {},
   "outputs": [],
   "source": [
    "# not done"
   ]
  },
  {
   "cell_type": "markdown",
   "metadata": {},
   "source": [
    "## Decryption: Message Decryption\n",
    "**Input: Ciphertext, IV, AES Key.**<br>\n",
    "**Output: Plaintext.**<br><br>\n",
    "**Method:**<br>\n",
    "The IV and AES Key are used as parameters to the AES-128 CBC Mode Decrypt algorithm. The output’s padding must be removed using the PKCS7 Decode function. The result is the secret message."
   ]
  },
  {
   "cell_type": "code",
   "execution_count": 227,
   "metadata": {},
   "outputs": [
    {
     "name": "stdout",
     "output_type": "stream",
     "text": [
      "Hello world\n"
     ]
    }
   ],
   "source": [
    "decipher = AES.new(KAES, AES.MODE_CBC, IV) \n",
    "ciphertext = binascii.unhexlify(ciphertext)\n",
    "decryptedBytes = decipher.decrypt(ciphertext)\n",
    "\n",
    "def pkcs7_unpad(data, blocksize=16):\n",
    "    if data:\n",
    "        padlen = data[-1]\n",
    "        if 0 < padlen < blocksize:\n",
    "            if data.endswith(bytes([padlen]) * padlen):\n",
    "                return data[:-padlen]\n",
    "\n",
    "print(pkcs7_unpad(decryptedBytes, blocksize=16).decode())"
   ]
  },
  {
   "cell_type": "markdown",
   "metadata": {},
   "source": [
    "# Big thank you to everyone who helped build this document!\n",
    "# Including, Liam, Allison, Alex, Jad and Owen."
   ]
  },
  {
   "cell_type": "code",
   "execution_count": null,
   "metadata": {},
   "outputs": [],
   "source": []
  }
 ],
 "metadata": {
  "kernelspec": {
   "display_name": "Python 3",
   "language": "python",
   "name": "python3"
  },
  "language_info": {
   "codemirror_mode": {
    "name": "ipython",
    "version": 3
   },
   "file_extension": ".py",
   "mimetype": "text/x-python",
   "name": "python",
   "nbconvert_exporter": "python",
   "pygments_lexer": "ipython3",
   "version": "3.7.3"
  }
 },
 "nbformat": 4,
 "nbformat_minor": 2
}
